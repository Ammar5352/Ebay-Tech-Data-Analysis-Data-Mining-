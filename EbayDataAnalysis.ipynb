{
 "cells": [
  {
   "cell_type": "code",
   "execution_count": 1,
   "id": "4404bbe1",
   "metadata": {},
   "outputs": [],
   "source": [
    "import sqlite3\n",
    "import pandas as pd"
   ]
  },
  {
   "cell_type": "code",
   "execution_count": 2,
   "id": "7173c436",
   "metadata": {},
   "outputs": [],
   "source": [
    "conn = sqlite3.connect('Ebay_tech_Analysis.db')\n",
    "query = pd.read_sql_query('''SELECT * FROM EbayNewData_2''',conn)\n",
    "query.to_csv(r'C:\\Users\\Admin\\Desktop\\data analysis\\ebay_dataNew1.csv',index=False)\n",
    "path='C:/Users/Admin/Desktop/data analysis/ebay_dataNew1.csv'\n",
    "df= pd.read_csv(path)"
   ]
  },
  {
   "cell_type": "code",
   "execution_count": 3,
   "id": "37d44747",
   "metadata": {
    "scrolled": true
   },
   "outputs": [],
   "source": [
    "#Dropping nan values\n",
    "df.dropna(inplace=True)"
   ]
  },
  {
   "cell_type": "code",
   "execution_count": 4,
   "id": "31e60f38",
   "metadata": {},
   "outputs": [],
   "source": [
    "#reseting index value after removing nan\n",
    "df.reset_index(drop=True,inplace=True)"
   ]
  },
  {
   "cell_type": "code",
   "execution_count": 5,
   "id": "9465f18d",
   "metadata": {},
   "outputs": [],
   "source": [
    "#Dropping duplicates\n",
    "df.drop_duplicates(inplace=True)"
   ]
  },
  {
   "cell_type": "code",
   "execution_count": 6,
   "id": "a57d6da9",
   "metadata": {},
   "outputs": [
    {
     "data": {
      "text/html": [
       "<div>\n",
       "<style scoped>\n",
       "    .dataframe tbody tr th:only-of-type {\n",
       "        vertical-align: middle;\n",
       "    }\n",
       "\n",
       "    .dataframe tbody tr th {\n",
       "        vertical-align: top;\n",
       "    }\n",
       "\n",
       "    .dataframe thead th {\n",
       "        text-align: right;\n",
       "    }\n",
       "</style>\n",
       "<table border=\"1\" class=\"dataframe\">\n",
       "  <thead>\n",
       "    <tr style=\"text-align: right;\">\n",
       "      <th></th>\n",
       "      <th>Model</th>\n",
       "      <th>Brand</th>\n",
       "      <th>Processor</th>\n",
       "      <th>ModelNumber</th>\n",
       "      <th>OperatingSystem</th>\n",
       "      <th>RAM</th>\n",
       "      <th>Price</th>\n",
       "    </tr>\n",
       "  </thead>\n",
       "  <tbody>\n",
       "    <tr>\n",
       "      <th>0</th>\n",
       "      <td>Apple iPhone 6s</td>\n",
       "      <td>Apple</td>\n",
       "      <td>Dual Core</td>\n",
       "      <td>A1633 (CDMA + GSM)</td>\n",
       "      <td>iOS</td>\n",
       "      <td>2 GB</td>\n",
       "      <td>76.00</td>\n",
       "    </tr>\n",
       "    <tr>\n",
       "      <th>1</th>\n",
       "      <td>Apple iPhone 11 Pro Max</td>\n",
       "      <td>Apple</td>\n",
       "      <td>Hexa Core</td>\n",
       "      <td>A2160 (CDMA + GSM) A2161 (CDMA + GSM)</td>\n",
       "      <td>iOS</td>\n",
       "      <td>4 GB</td>\n",
       "      <td>434.99</td>\n",
       "    </tr>\n",
       "    <tr>\n",
       "      <th>2</th>\n",
       "      <td>Apple iPhone XS XSMax</td>\n",
       "      <td>Apple</td>\n",
       "      <td>Hexa Core</td>\n",
       "      <td>A1920 A1921(CDMA + GSM)</td>\n",
       "      <td>iOS</td>\n",
       "      <td>4GB</td>\n",
       "      <td>234.99</td>\n",
       "    </tr>\n",
       "    <tr>\n",
       "      <th>3</th>\n",
       "      <td>Apple iPhone XR</td>\n",
       "      <td>Apple</td>\n",
       "      <td>Hexa Core</td>\n",
       "      <td>A1984 (CDMA + GSM)</td>\n",
       "      <td>iOS</td>\n",
       "      <td>3 GB</td>\n",
       "      <td>224.99</td>\n",
       "    </tr>\n",
       "    <tr>\n",
       "      <th>4</th>\n",
       "      <td>Apple iPhone 4s</td>\n",
       "      <td>Apple</td>\n",
       "      <td>Dual Core</td>\n",
       "      <td>A1387 (CDMA + GSM)</td>\n",
       "      <td>iOS</td>\n",
       "      <td>32GB</td>\n",
       "      <td>54.00</td>\n",
       "    </tr>\n",
       "  </tbody>\n",
       "</table>\n",
       "</div>"
      ],
      "text/plain": [
       "                     Model  Brand  Processor  \\\n",
       "0          Apple iPhone 6s  Apple  Dual Core   \n",
       "1  Apple iPhone 11 Pro Max  Apple  Hexa Core   \n",
       "2    Apple iPhone XS XSMax  Apple  Hexa Core   \n",
       "3          Apple iPhone XR  Apple  Hexa Core   \n",
       "4          Apple iPhone 4s  Apple  Dual Core   \n",
       "\n",
       "                             ModelNumber OperatingSystem   RAM   Price  \n",
       "0                     A1633 (CDMA + GSM)             iOS  2 GB   76.00  \n",
       "1  A2160 (CDMA + GSM) A2161 (CDMA + GSM)             iOS  4 GB  434.99  \n",
       "2                A1920 A1921(CDMA + GSM)             iOS   4GB  234.99  \n",
       "3                     A1984 (CDMA + GSM)             iOS  3 GB  224.99  \n",
       "4                     A1387 (CDMA + GSM)             iOS  32GB   54.00  "
      ]
     },
     "execution_count": 6,
     "metadata": {},
     "output_type": "execute_result"
    }
   ],
   "source": [
    "df.head(5)"
   ]
  },
  {
   "cell_type": "code",
   "execution_count": 7,
   "id": "b3e4a01d",
   "metadata": {},
   "outputs": [],
   "source": [
    "#renaming columns\n",
    "df.rename(columns={'Model':\"Model's\",'Brand':\"Brand's\"},inplace=True)"
   ]
  },
  {
   "cell_type": "code",
   "execution_count": 8,
   "id": "61fc30c2",
   "metadata": {},
   "outputs": [
    {
     "data": {
      "text/plain": [
       "Model's             object\n",
       "Brand's             object\n",
       "Processor           object\n",
       "ModelNumber         object\n",
       "OperatingSystem     object\n",
       "RAM                 object\n",
       "Price              float64\n",
       "dtype: object"
      ]
     },
     "execution_count": 8,
     "metadata": {},
     "output_type": "execute_result"
    }
   ],
   "source": [
    "#data types\n",
    "df.dtypes"
   ]
  },
  {
   "cell_type": "code",
   "execution_count": 9,
   "id": "b56f1ba1",
   "metadata": {},
   "outputs": [
    {
     "name": "stdout",
     "output_type": "stream",
     "text": [
      "<class 'pandas.core.frame.DataFrame'>\n",
      "Int64Index: 44 entries, 0 to 46\n",
      "Data columns (total 7 columns):\n",
      " #   Column           Non-Null Count  Dtype  \n",
      "---  ------           --------------  -----  \n",
      " 0   Model's          44 non-null     object \n",
      " 1   Brand's          44 non-null     object \n",
      " 2   Processor        44 non-null     object \n",
      " 3   ModelNumber      44 non-null     object \n",
      " 4   OperatingSystem  44 non-null     object \n",
      " 5   RAM              44 non-null     object \n",
      " 6   Price            44 non-null     float64\n",
      "dtypes: float64(1), object(6)\n",
      "memory usage: 2.8+ KB\n"
     ]
    }
   ],
   "source": [
    "#data information\n",
    "df.info()"
   ]
  },
  {
   "cell_type": "code",
   "execution_count": 10,
   "id": "496b76d3",
   "metadata": {},
   "outputs": [
    {
     "data": {
      "text/html": [
       "<div>\n",
       "<style scoped>\n",
       "    .dataframe tbody tr th:only-of-type {\n",
       "        vertical-align: middle;\n",
       "    }\n",
       "\n",
       "    .dataframe tbody tr th {\n",
       "        vertical-align: top;\n",
       "    }\n",
       "\n",
       "    .dataframe thead th {\n",
       "        text-align: right;\n",
       "    }\n",
       "</style>\n",
       "<table border=\"1\" class=\"dataframe\">\n",
       "  <thead>\n",
       "    <tr style=\"text-align: right;\">\n",
       "      <th></th>\n",
       "      <th>Price</th>\n",
       "    </tr>\n",
       "  </thead>\n",
       "  <tbody>\n",
       "    <tr>\n",
       "      <th>count</th>\n",
       "      <td>44.000000</td>\n",
       "    </tr>\n",
       "    <tr>\n",
       "      <th>mean</th>\n",
       "      <td>289.416136</td>\n",
       "    </tr>\n",
       "    <tr>\n",
       "      <th>std</th>\n",
       "      <td>272.667242</td>\n",
       "    </tr>\n",
       "    <tr>\n",
       "      <th>min</th>\n",
       "      <td>54.000000</td>\n",
       "    </tr>\n",
       "    <tr>\n",
       "      <th>25%</th>\n",
       "      <td>158.000000</td>\n",
       "    </tr>\n",
       "    <tr>\n",
       "      <th>50%</th>\n",
       "      <td>210.525000</td>\n",
       "    </tr>\n",
       "    <tr>\n",
       "      <th>75%</th>\n",
       "      <td>304.247500</td>\n",
       "    </tr>\n",
       "    <tr>\n",
       "      <th>max</th>\n",
       "      <td>1479.990000</td>\n",
       "    </tr>\n",
       "  </tbody>\n",
       "</table>\n",
       "</div>"
      ],
      "text/plain": [
       "             Price\n",
       "count    44.000000\n",
       "mean    289.416136\n",
       "std     272.667242\n",
       "min      54.000000\n",
       "25%     158.000000\n",
       "50%     210.525000\n",
       "75%     304.247500\n",
       "max    1479.990000"
      ]
     },
     "execution_count": 10,
     "metadata": {},
     "output_type": "execute_result"
    }
   ],
   "source": [
    "#Calculating mean,count,max,min,etc by describe func\n",
    "df.describe()"
   ]
  },
  {
   "cell_type": "code",
   "execution_count": 11,
   "id": "3f1cff01",
   "metadata": {},
   "outputs": [
    {
     "data": {
      "text/plain": [
       "(44, 7)"
      ]
     },
     "execution_count": 11,
     "metadata": {},
     "output_type": "execute_result"
    }
   ],
   "source": [
    "#How many columns and row are there\n",
    "df.shape"
   ]
  },
  {
   "cell_type": "code",
   "execution_count": 12,
   "id": "708ab406",
   "metadata": {},
   "outputs": [
    {
     "data": {
      "text/plain": [
       "19    1479.99\n",
       "23    1269.99\n",
       "14     625.00\n",
       "11     564.98\n",
       "13     557.49\n",
       "Name: Price, dtype: float64"
      ]
     },
     "execution_count": 12,
     "metadata": {},
     "output_type": "execute_result"
    }
   ],
   "source": [
    "#Top 5 highest prices among all\n",
    "df['Price'].nlargest(n=5)"
   ]
  },
  {
   "cell_type": "code",
   "execution_count": 13,
   "id": "b5809fcc",
   "metadata": {},
   "outputs": [
    {
     "name": "stdout",
     "output_type": "stream",
     "text": [
      "Find N Octa Core Android 12 GB PEUM00\n"
     ]
    }
   ],
   "source": [
    "#Highest Price mobile specification\n",
    "for i in range(len(df)):\n",
    "    try:\n",
    "        if df['Price'][i]==df['Price'].max():\n",
    "            print(df[\"Model's\"][i],df['Processor'][i],df['OperatingSystem'][i],df['RAM'][i],df['ModelNumber'][i])\n",
    "    except KeyError:\n",
    "        continue"
   ]
  },
  {
   "cell_type": "code",
   "execution_count": 14,
   "id": "3bb766d9",
   "metadata": {},
   "outputs": [],
   "source": [
    "import matplotlib.pyplot as plt"
   ]
  },
  {
   "cell_type": "code",
   "execution_count": 15,
   "id": "a84b2b4d",
   "metadata": {
    "scrolled": true
   },
   "outputs": [
    {
     "data": {
      "text/plain": [
       "Text(0.5, 1.0, \"Comparison between Model's with Price\")"
      ]
     },
     "execution_count": 15,
     "metadata": {},
     "output_type": "execute_result"
    },
    {
     "data": {
      "image/png": "[encoded data removed]",
      "text/plain": [
       "<Figure size 432x288 with 1 Axes>"
      ]
     },
     "metadata": {
      "needs_background": "light"
     },
     "output_type": "display_data"
    }
   ],
   "source": [
    "#Plotting Top 4 phones with highest price\n",
    "a=df.nlargest(n=4,columns=['Price'])\n",
    "a.reset_index(drop=True,inplace=True)\n",
    "X=a[\"Model's\"]\n",
    "Y=a['Price']\n",
    "for i in range(len(X)):\n",
    "       plt.text(X[i],Y[i],Y[i],ha='center',fontsize=8,va='bottom')\n",
    "plt.bar(X,Y,color='orange')\n",
    "plt.xlabel('Models')\n",
    "plt.ylabel('Price')\n",
    "plt.xticks(rotation='vertical')\n",
    "plt.title(\"Comparison between Model's with Price\")"
   ]
  },
  {
   "cell_type": "code",
   "execution_count": 16,
   "id": "7dbda7ff",
   "metadata": {},
   "outputs": [],
   "source": [
    "#Find N of Oppo has highest price among all brand phones"
   ]
  },
  {
   "cell_type": "code",
   "execution_count": 17,
   "id": "d36d141c",
   "metadata": {},
   "outputs": [],
   "source": [
    "import numpy as np"
   ]
  },
  {
   "cell_type": "code",
   "execution_count": 18,
   "id": "662fe8a9",
   "metadata": {},
   "outputs": [],
   "source": [
    "x=np.array([a['Price'][0],a['Price'][1],a['Price'][2],a['Price'][3]])"
   ]
  },
  {
   "cell_type": "code",
   "execution_count": 19,
   "id": "1eb75533",
   "metadata": {
    "scrolled": true
   },
   "outputs": [
    {
     "data": {
      "text/plain": [
       "<matplotlib.legend.Legend at 0x1fc33d2eca0>"
      ]
     },
     "execution_count": 19,
     "metadata": {},
     "output_type": "execute_result"
    },
    {
     "data": {
      "image/png": "[encoded data removed]",
      "text/plain": [
       "<Figure size 432x288 with 1 Axes>"
      ]
     },
     "metadata": {},
     "output_type": "display_data"
    }
   ],
   "source": [
    "mylabels = [a[\"Model's\"][0], a[\"Model's\"][1], a[\"Model's\"][2], a[\"Model's\"][3]]\n",
    "explode=[0.1,0,0,0]\n",
    "total = sum(x)\n",
    "plt.pie(x,labels=mylabels,explode= explode,startangle=90,shadow=True,autopct=lambda p: '{:.0f}'.format(p * total / 100))\n",
    "plt.legend(loc='lower right')"
   ]
  },
  {
   "cell_type": "code",
   "execution_count": 20,
   "id": "235219c9",
   "metadata": {
    "scrolled": true
   },
   "outputs": [
    {
     "data": {
      "text/plain": [
       "Text(0.5, 1.0, \"Comparison between RAM's with price\")"
      ]
     },
     "execution_count": 20,
     "metadata": {},
     "output_type": "execute_result"
    },
    {
     "data": {
      "image/png": "[encoded data removed]",
      "text/plain": [
       "<Figure size 432x288 with 1 Axes>"
      ]
     },
     "metadata": {
      "needs_background": "light"
     },
     "output_type": "display_data"
    }
   ],
   "source": [
    "ax=df.pivot_table(index='RAM').plot(kind='bar')\n",
    "ax.set_xlabel(\"RAM\")\n",
    "ax.set_ylabel(\"Price\")\n",
    "ax.set_title(\"Comparison between RAM's with price\")"
   ]
  },
  {
   "cell_type": "code",
   "execution_count": 21,
   "id": "1e54e73b",
   "metadata": {},
   "outputs": [],
   "source": [
    "#12Gb ram has highest price compared to all other ram's.As u can see 6gb ram has higher price than 8 gb ram.\n",
    "#Lowest price is of ram 2gb"
   ]
  },
  {
   "cell_type": "code",
   "execution_count": 22,
   "id": "41bb1a82",
   "metadata": {
    "scrolled": true
   },
   "outputs": [
    {
     "data": {
      "text/plain": [
       "Text(0.5, 1.0, 'Comparison between brands with price')"
      ]
     },
     "execution_count": 22,
     "metadata": {},
     "output_type": "execute_result"
    },
    {
     "data": {
      "image/png": "[encoded data removed]",
      "text/plain": [
       "<Figure size 432x288 with 1 Axes>"
      ]
     },
     "metadata": {
      "needs_background": "light"
     },
     "output_type": "display_data"
    }
   ],
   "source": [
    "ax=df.pivot_table(index=\"Brand's\").plot(kind='bar')\n",
    "ax.set_xlabel(\"Brand's\")\n",
    "ax.set_ylabel(\"Price\")\n",
    "ax.set_title(\"Comparison between brands with price\")"
   ]
  },
  {
   "cell_type": "code",
   "execution_count": 23,
   "id": "07544edf",
   "metadata": {},
   "outputs": [],
   "source": [
    "#Brand of oppo is higher in price among all other mobiles."
   ]
  },
  {
   "cell_type": "code",
   "execution_count": 24,
   "id": "c37e2685",
   "metadata": {},
   "outputs": [],
   "source": [
    "#Converting categorical to numerical data\n",
    "df_model=pd.get_dummies(df[\"Model's\"])"
   ]
  },
  {
   "cell_type": "code",
   "execution_count": 25,
   "id": "188920ed",
   "metadata": {},
   "outputs": [],
   "source": [
    "#Converting categorical to numerical data\n",
    "df_brand=pd.get_dummies(df[\"Brand's\"])"
   ]
  },
  {
   "cell_type": "code",
   "execution_count": 26,
   "id": "20b3739e",
   "metadata": {},
   "outputs": [],
   "source": [
    "#Converting categorical to numerical data\n",
    "df_processor=pd.get_dummies(df[\"Processor\"])"
   ]
  },
  {
   "cell_type": "code",
   "execution_count": 27,
   "id": "e500956b",
   "metadata": {},
   "outputs": [],
   "source": [
    "#Converting categorical to numerical data\n",
    "df_modelnumber=pd.get_dummies(df[\"ModelNumber\"])"
   ]
  },
  {
   "cell_type": "code",
   "execution_count": 28,
   "id": "3834e1c6",
   "metadata": {},
   "outputs": [],
   "source": [
    "#Converting categorical to numerical data\n",
    "df_os=pd.get_dummies(df[\"OperatingSystem\"])"
   ]
  },
  {
   "cell_type": "code",
   "execution_count": 29,
   "id": "99de4f18",
   "metadata": {},
   "outputs": [],
   "source": [
    "#Converting categorical to numerical data\n",
    "df_ram=pd.get_dummies(df[\"RAM\"])"
   ]
  },
  {
   "cell_type": "code",
   "execution_count": 30,
   "id": "55ad4585",
   "metadata": {},
   "outputs": [],
   "source": [
    "#Concatinating and making new data frame\n",
    "df_new=pd.concat([df_model,df_brand,df_processor,df_modelnumber,df_os,df_ram,df['Price']],axis=1)"
   ]
  },
  {
   "cell_type": "code",
   "execution_count": 31,
   "id": "cf16db25",
   "metadata": {},
   "outputs": [],
   "source": [
    "#Here X will take all columns except last columns and Y will Take last column\n",
    "X=df_new.iloc[:,0:-1]\n",
    "Y=df_new.iloc[:, -1]"
   ]
  },
  {
   "cell_type": "code",
   "execution_count": 32,
   "id": "d2925ad5",
   "metadata": {},
   "outputs": [
    {
     "data": {
      "text/plain": [
       "(44,)"
      ]
     },
     "execution_count": 32,
     "metadata": {},
     "output_type": "execute_result"
    }
   ],
   "source": [
    "Y.shape"
   ]
  },
  {
   "cell_type": "code",
   "execution_count": 33,
   "id": "f943316f",
   "metadata": {},
   "outputs": [],
   "source": [
    "from sklearn.linear_model import LinearRegression\n",
    "lm=LinearRegression()"
   ]
  },
  {
   "cell_type": "code",
   "execution_count": 34,
   "id": "97953a8b",
   "metadata": {},
   "outputs": [
    {
     "data": {
      "text/plain": [
       "LinearRegression()"
      ]
     },
     "execution_count": 34,
     "metadata": {},
     "output_type": "execute_result"
    }
   ],
   "source": [
    "lm.fit(X,Y)"
   ]
  },
  {
   "cell_type": "code",
   "execution_count": 35,
   "id": "38318c0b",
   "metadata": {
    "scrolled": false
   },
   "outputs": [
    {
     "data": {
      "text/plain": [
       "array([  75.98547363,  434.9432373 ,  234.92883301,  237.57043457,\n",
       "         54.00109863,  344.96496582,   89.98547363,  414.95227051,\n",
       "        159.95422363,  139.42297363,  237.57043457,  564.91027832,\n",
       "        139.42297363,  557.42102051,  624.93933105,  324.96594238,\n",
       "        249.98474121,  298.98742676, 1480.02160645,  349.93469238,\n",
       "        279.98937988, 1269.99914551,  298.95910645,  250.01281738,\n",
       "        191.86437988,  194.9552002 ,   88.60461426,  184.95568848,\n",
       "        199.95080566,  118.84338379,  135.99621582,  121.97180176,\n",
       "        236.56799316,  320.02062988,  208.12805176,  158.09289551,\n",
       "        158.06066895,  145.10559082,  213.08117676,  118.92687988,\n",
       "        289.03430176,  198.66027832,  169.04992676,  168.62121582])"
      ]
     },
     "execution_count": 35,
     "metadata": {},
     "output_type": "execute_result"
    }
   ],
   "source": [
    "#Here we predicted price of mobile phones\n",
    "lm.predict(X)"
   ]
  },
  {
   "cell_type": "code",
   "execution_count": 36,
   "id": "79de64bf",
   "metadata": {},
   "outputs": [
    {
     "name": "stdout",
     "output_type": "stream",
     "text": [
      "99.9357678935841\n"
     ]
    }
   ],
   "source": [
    "#Accuracy_score\n",
    "print(lm.score(X,Y)*100)"
   ]
  },
  {
   "cell_type": "code",
   "execution_count": 37,
   "id": "137f14bb",
   "metadata": {},
   "outputs": [
    {
     "name": "stdout",
     "output_type": "stream",
     "text": [
      "100 %\n"
     ]
    }
   ],
   "source": [
    "# Round of Accuracy score\n",
    "print(round(lm.score(X,Y)*100),\"%\")"
   ]
  },
  {
   "cell_type": "code",
   "execution_count": 38,
   "id": "9c53de86",
   "metadata": {},
   "outputs": [],
   "source": [
    "#In Ebay tech data analyis we observed that company oppo has highest price among all phones.Highest ram is upto 12gb.Lowest ram\n",
    "#is upto 2gb.We have also see various graph related to dataset.At last we predicted the price of mobile phone using linear\n",
    "#regression technique.We also get accuracy almost 100% only if we round off"
   ]
  }
 ],
 "metadata": {
  "kernelspec": {
   "display_name": "Python 3 (ipykernel)",
   "language": "python",
   "name": "python3"
  },
  "language_info": {
   "codemirror_mode": {
    "name": "ipython",
    "version": 3
   },
   "file_extension": ".py",
   "mimetype": "text/x-python",
   "name": "python",
   "nbconvert_exporter": "python",
   "pygments_lexer": "ipython3",
   "version": "3.9.12"
  }
 },
 "nbformat": 4,
 "nbformat_minor": 5
}
